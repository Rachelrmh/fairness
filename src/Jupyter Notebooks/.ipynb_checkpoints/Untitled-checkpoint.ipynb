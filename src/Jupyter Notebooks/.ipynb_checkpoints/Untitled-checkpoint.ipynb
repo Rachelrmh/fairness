{
 "cells": [
  {
   "cell_type": "code",
   "execution_count": 3,
   "metadata": {},
   "outputs": [],
   "source": [
    "import tensorflow as tf\n",
    "import pandas as pd\n",
    "import numpy as np\n",
    "import matplotlib.pyplot as plt"
   ]
  },
  {
   "cell_type": "code",
   "execution_count": 4,
   "metadata": {},
   "outputs": [],
   "source": [
    "#Helper functions to create Tensorflow Deep Neural Network Graph\n",
    "\n",
    "def weights(shape):\n",
    "        '''\n",
    "        Creates the filters and bias' for the convolutions/pooling layers of the inception_module\n",
    "\n",
    "        Parameters:\n",
    "            shape: The shape of the weight tensor.\n",
    "                    For dense_layers, this should be [num_inputs_to_layer, num_outputs_of_layer].\n",
    "                    Note: Number of outputs for a layer is equivalent to the number of neurons in that layer.\n",
    "        Returns:\n",
    "            The tensor weight variable\n",
    "        '''\n",
    "        return(tf.Variable(tf.truncated_normal(shape, stddev=0.1, name=\"weights\")))\n",
    "\n",
    "def bias(shape, initial_value=0.1):\n",
    "    '''\n",
    "    Create a bias variable. Note it is initalized by default to 0.1\n",
    "        \n",
    "    Parameters:\n",
    "        shape: The shape of the bias tensor. This should be a 1D shape equal to the number of outputs of\n",
    "                a layer.\n",
    "        initial_value: The initial value of all the bias's\n",
    "            \n",
    "    Returns:\n",
    "           The tensor bias variable \n",
    "    '''\n",
    "    return(tf.Variable(tf.constant(initial_value, shape=shape, name=\"bias\")))\n",
    "\n",
    "def conv2d(inputs, weights, bias, strides, padding=\"SAME\"):\n",
    "    '''\n",
    "    Perfroms a 2D convolution on the input tensor.\n",
    "    \n",
    "    Parameters:\n",
    "        inputs: The input tensors to run 2d convolution. Must have shape  [batch_size, width, height, input_channels]\n",
    "        weights: The weights used to perform convolution. Must have shape [input_channels, filter_width, filter_height, output_channels]\n",
    "        bias: The bias used after computing convolution. Must have shape [output_channels]\n",
    "    '''\n",
    "    x = tf.nn.conv2d(inputs, weights, strides=[1, strides, strides, 1], padding=padding)\n",
    "    x = tf.nn.bias_add(x, bias)\n",
    "    return tf.nn.leaky_relu(x)\n",
    "\n",
    "def dense_layer(inputs, weights, bias, activation=None):\n",
    "    '''\n",
    "    Build a fully connected dense neuron layer. \n",
    "    \n",
    "    Parameters:\n",
    "        inputs: An input tensor with shape [batch_size, num_inputs]\n",
    "        weights: A tensor with shape [num_inputs, num_outputs]\n",
    "        bias: A tensor with shape [num_outputs]\n",
    "        activation: A valid tensorflow activation function.(EX. tf.nn.relu())\n",
    "    '''\n",
    "    output = tf.matmul(inputs, weights) + bias\n",
    "    if activation is None:\n",
    "        return(output)\n",
    "    return(activation(output))"
   ]
  },
  {
   "cell_type": "code",
   "execution_count": 5,
   "metadata": {},
   "outputs": [],
   "source": [
    "def projection(weights, p_norm, lamda):\n",
    "    '''\n",
    "    Projection function on a weights matrix to constrain the lipschitz constant.\n",
    "    \n",
    "    Parameters:\n",
    "        weights: The weights tenosr of a neuron layer\n",
    "        p_norm: The The distance norm to be computed for the weights\n",
    "        lamda: Hyperparameter to control the upper bound of the Lipschitz constant\n",
    "    \n",
    "    Returns: \n",
    "        Assignment operation to update the weights tensor.\n",
    "        weights_norm: The p_norm of the weights tensro\n",
    "    '''\n",
    "    one_scalar = tf.constant(1, dtype=tf.float32)\n",
    "    lamda = tf.constant(lamda, dtype=tf.float32)\n",
    "    \n",
    "    #compute the p_norm of the weight matrix\n",
    "    weights_norm = tf.norm(weights, ord=p_norm)\n",
    "    weight_bound = tf.divide(weights_norm, lamda)\n",
    "    projection_parameter = tf.divide(one_scalar, tf.maximum(one_scalar, weight_bound))\n",
    "    weights_projection = tf.multiply(projection_parameter, weights)\n",
    "    \n",
    "    return(tf.assign(weights, weights_projection), weights_norm)"
   ]
  },
  {
   "cell_type": "code",
   "execution_count": 15,
   "metadata": {},
   "outputs": [],
   "source": [
    "#Network model\n",
    "num_inputs = 28*28\n",
    "num_hidden1 = 300\n",
    "num_hidden2 = 100\n",
    "num_hidden3 = 10\n",
    "\n",
    "with tf.name_scope(\"dnn_model\"):\n",
    "    \n",
    "    #insertion point for input data to model\n",
    "    X = tf.placeholder(dtype=tf.float32, shape=[None, num_inputs])\n",
    "    labels = tf.placeholder(dtype=tf.int32, shape=None)\n",
    "    \n",
    "    #hidden layer 1\n",
    "    w1 = weights([num_inputs, num_hidden1])\n",
    "    b1 = bias([num_hidden1])\n",
    "    z1 = dense_layer(X, w1, b1, activation=tf.nn.relu)\n",
    "\n",
    "    #hidden layer 2\n",
    "    w2 = weights([num_hidden1, num_hidden2])\n",
    "    b2 = bias([num_hidden2])\n",
    "    z2 = dense_layer(z1, w2, b2, activation=tf.nn.relu)\n",
    "\n",
    "    #hidden layer 3\n",
    "    w3 = weights([num_hidden2, num_hidden3])\n",
    "    b3 = bias([num_hidden3])\n",
    "    logits = dense_layer(z2, w3, b3, activation=None)\n",
    "    \n",
    "#next we define the cost function of the neural net using softmax for activation and cross entropy for cost\n",
    "with tf.name_scope(\"loss\"):\n",
    "\t#this function computes both the softmax activation and cross entropy cost.\n",
    "\txentropy = tf.nn.sparse_softmax_cross_entropy_with_logits(labels=labels, logits=logits)\n",
    "\n",
    "\t#give the means cross entropy across all instances\n",
    "\tloss = tf.reduce_mean(xentropy, name=\"loss\")"
   ]
  },
  {
   "cell_type": "code",
   "execution_count": 16,
   "metadata": {},
   "outputs": [],
   "source": [
    "#define the gradient descent optimizer to minimize the cost function\n",
    "learning_rate = 0.01\n",
    "with tf.name_scope(\"train\"):\n",
    "\toptimizer = tf.train.GradientDescentOptimizer(learning_rate)\n",
    "\ttraining_op = optimizer.minimize(loss)\n"
   ]
  },
  {
   "cell_type": "code",
   "execution_count": 17,
   "metadata": {
    "scrolled": false
   },
   "outputs": [],
   "source": [
    "#define how we will evaluate the validity of the neural network\n",
    "with tf.name_scope(\"eval\"):\n",
    "\tcorrect = tf.nn.in_top_k(logits, labels, 1)\n",
    "\taccuracy = tf.reduce_mean(tf.cast(correct, tf.float32))"
   ]
  },
  {
   "cell_type": "code",
   "execution_count": 35,
   "metadata": {},
   "outputs": [],
   "source": [
    "with tf.name_scope(\"lipshitz_regularization\"):\n",
    "    p_norm=1\n",
    "    lamda1 = 1\n",
    "    lamda2 = 1\n",
    "    lamda3 = 1\n",
    "    #layer one regularization\n",
    "    w1_projection, w1_norm = projection(w1, p_norm=p_norm, lamda=lamda1)\n",
    "    w2_projection, w2_norm = projection(w2, p_norm=p_norm, lamda=lamda2)\n",
    "    w3_projection, w3_norm = projection(w3, p_norm=p_norm, lamda=lamda3)\n"
   ]
  },
  {
   "cell_type": "code",
   "execution_count": 36,
   "metadata": {
    "scrolled": false
   },
   "outputs": [
    {
     "name": "stdout",
     "output_type": "stream",
     "text": [
      "Extracting /tmp/data\\train-images-idx3-ubyte.gz\n",
      "Extracting /tmp/data\\train-labels-idx1-ubyte.gz\n",
      "Extracting /tmp/data\\t10k-images-idx3-ubyte.gz\n",
      "Extracting /tmp/data\\t10k-labels-idx1-ubyte.gz\n",
      "0 Train accuracy: 0.92 Val accuracy: 0.8688 Val Loss 0.50899076\n",
      "1 Train accuracy: 0.84 Val accuracy: 0.9012 Val Loss 0.36670473\n",
      "2 Train accuracy: 0.93 Val accuracy: 0.9088 Val Loss 0.31549513\n",
      "3 Train accuracy: 0.95 Val accuracy: 0.9198 Val Loss 0.28219095\n",
      "4 Train accuracy: 0.94 Val accuracy: 0.9286 Val Loss 0.25910607\n",
      "5 Train accuracy: 0.91 Val accuracy: 0.9328 Val Loss 0.24311014\n",
      "6 Train accuracy: 0.96 Val accuracy: 0.9348 Val Loss 0.23070754\n",
      "7 Train accuracy: 0.95 Val accuracy: 0.9366 Val Loss 0.21867692\n",
      "8 Train accuracy: 0.98 Val accuracy: 0.9418 Val Loss 0.20824882\n",
      "9 Train accuracy: 0.93 Val accuracy: 0.9426 Val Loss 0.19986242\n",
      "10 Train accuracy: 0.92 Val accuracy: 0.9452 Val Loss 0.19153781\n",
      "11 Train accuracy: 0.98 Val accuracy: 0.9486 Val Loss 0.18452382\n",
      "12 Train accuracy: 0.97 Val accuracy: 0.9506 Val Loss 0.17783442\n",
      "13 Train accuracy: 0.99 Val accuracy: 0.9516 Val Loss 0.17157584\n",
      "14 Train accuracy: 0.92 Val accuracy: 0.9544 Val Loss 0.16646062\n",
      "15 Train accuracy: 0.94 Val accuracy: 0.9552 Val Loss 0.16132638\n",
      "16 Train accuracy: 0.95 Val accuracy: 0.957 Val Loss 0.15820965\n",
      "17 Train accuracy: 0.94 Val accuracy: 0.9578 Val Loss 0.15306363\n",
      "18 Train accuracy: 0.96 Val accuracy: 0.9596 Val Loss 0.1490231\n",
      "19 Train accuracy: 0.95 Val accuracy: 0.9606 Val Loss 0.14538722\n"
     ]
    }
   ],
   "source": [
    "#node to initialize all of the variables\n",
    "init = tf.global_variables_initializer()\n",
    "saver = tf.train.Saver()\n",
    "\n",
    "from tensorflow.examples.tutorials.mnist import input_data\n",
    "mnist = input_data.read_data_sets(\"/tmp/data\")\n",
    "n_epochs = 20\n",
    "batch_size = 100\n",
    "\n",
    "w1_norm_data = []\n",
    "w2_norm_data = []\n",
    "w3_norm_data = []\n",
    "acc_train =[]\n",
    "acc_val = []\n",
    "loss_val =[]\n",
    "\n",
    "with tf.Session() as sess:\n",
    "    init.run()\n",
    "    for epoch in range(n_epochs):\n",
    "        for iteration in range(mnist.train.num_examples // batch_size):\n",
    "            X_batch, y_batch = mnist.train.next_batch(batch_size)\n",
    "\n",
    "            sess.run(training_op, feed_dict={X: X_batch, labels: y_batch})\n",
    "            \n",
    "            #sess.run(w1_projection)\n",
    "            #sess.run(w2_projection)\n",
    "            #sess.run(w3_projection)\n",
    "            \n",
    "        #Save the norms of the weight matrices\n",
    "        w1_norm_data.append(sess.run(w1_norm))\n",
    "        w2_norm_data.append(sess.run(w2_norm))\n",
    "        w3_norm_data.append(sess.run(w3_norm))\n",
    "        \n",
    "        acc_train.append(accuracy.eval(feed_dict={X: X_batch, labels:y_batch}))\n",
    "        acc_val.append(accuracy.eval(feed_dict={X: mnist.validation.images, labels: mnist.validation.labels}))\n",
    "        loss_val.append(loss.eval(feed_dict={X:mnist.validation.images, labels:mnist.validation.labels}))\n",
    "        print(epoch, \"Train accuracy:\", acc_train[-1], \"Val accuracy:\", acc_val[-1], \"Val Loss\", loss_val[-1])"
   ]
  },
  {
   "cell_type": "code",
   "execution_count": 37,
   "metadata": {},
   "outputs": [
    {
     "data": {
      "image/png": "[encoded data removed]",
      "text/plain": [
       "<Figure size 432x288 with 1 Axes>"
      ]
     },
     "metadata": {},
     "output_type": "display_data"
    },
    {
     "data": {
      "image/png": "[encoded data removed]",
      "text/plain": [
       "<Figure size 432x288 with 1 Axes>"
      ]
     },
     "metadata": {},
     "output_type": "display_data"
    },
    {
     "data": {
      "image/png": "[encoded data removed]",
      "text/plain": [
       "<Figure size 432x288 with 1 Axes>"
      ]
     },
     "metadata": {},
     "output_type": "display_data"
    }
   ],
   "source": [
    "#Plot cost data\n",
    "plt.figure(1)\n",
    "plt.grid(True)\n",
    "plt.title(\"Cost\")\n",
    "plt.xlabel(\"Epochs\")\n",
    "plt.ylabel(\"Cost\")\n",
    "plt.plot(loss_val, label=\"loss_val\")\n",
    "plt.legend()\n",
    "\n",
    "#Plot accuracy data\n",
    "plt.figure(2)\n",
    "plt.grid(True)\n",
    "plt.title(\"Accuracy\")\n",
    "plt.xlabel(\"Epochs\")\n",
    "plt.ylabel(\"Accuracy\")\n",
    "plt.plot(acc_val, label=\"Test\")\n",
    "plt.plot(acc_train, label=\"Train\")\n",
    "plt.legend()\n",
    "\n",
    "#plot weight norms data\n",
    "plt.figure(3)\n",
    "plt.xlabel(\"Epochs\")\n",
    "plt.ylabel(\"l\"+str(p_norm)+\" norm\")\n",
    "plt.plot(w1_norm_data, label=\"w1_norm\")\n",
    "plt.hlines(lamda1, xmin=0, xmax=n_epochs, colors=\"m\", label=\"Lamda1=\"+str(lamda1))\n",
    "plt.plot(w2_norm_data, label=\"w2_norm\")\n",
    "plt.hlines(lamda2, xmin=0, xmax=n_epochs, colors=\"k\", label=\"Lamda2=\"+str(lamda2))\n",
    "plt.plot(w3_norm_data, label=\"w3_norm\")\n",
    "plt.hlines(lamda3, xmin=0, xmax=n_epochs, colors=\"r\", label=\"Lamda3=\"+str(lamda3))\n",
    "plt.legend()\n",
    "\n",
    "plt.show()"
   ]
  },
  {
   "cell_type": "code",
   "execution_count": null,
   "metadata": {},
   "outputs": [],
   "source": []
  }
 ],
 "metadata": {
  "kernelspec": {
   "display_name": "Python 3",
   "language": "python",
   "name": "python3"
  },
  "language_info": {
   "codemirror_mode": {
    "name": "ipython",
    "version": 3
   },
   "file_extension": ".py",
   "mimetype": "text/x-python",
   "name": "python",
   "nbconvert_exporter": "python",
   "pygments_lexer": "ipython3",
   "version": "3.6.4"
  }
 },
 "nbformat": 4,
 "nbformat_minor": 2
}
